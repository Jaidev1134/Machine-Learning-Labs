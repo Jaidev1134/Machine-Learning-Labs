{
 "cells": [
  {
   "cell_type": "code",
   "execution_count": 4,
   "id": "5fc16c5c-5f3b-44fa-91cc-18ff0dd16abe",
   "metadata": {},
   "outputs": [
    {
     "name": "stdout",
     "output_type": "stream",
     "text": [
      "solution 2\n",
      "6\n"
     ]
    }
   ],
   "source": [
    "import numpy as np\n",
    "arr1=np.array([2,7,4,1,3,6])\n",
    "print(\"solution 2\")\n",
    "print(max(arr1)-min(arr1))"
   ]
  },
  {
   "cell_type": "code",
   "execution_count": 9,
   "id": "1deceb68-9585-479d-8acd-3b8bd8afb59b",
   "metadata": {},
   "outputs": [
    {
     "name": "stdout",
     "output_type": "stream",
     "text": [
      "solution4\n"
     ]
    },
    {
     "name": "stdin",
     "output_type": "stream",
     "text": [
      "enter the string hippopotamus\n"
     ]
    },
    {
     "name": "stdout",
     "output_type": "stream",
     "text": [
      "The maximally occurring character is 'p' & occurrence count is 3\n"
     ]
    }
   ],
   "source": [
    "from collections import Counter\n",
    "\n",
    "def highest_occurring_char(s):\n",
    "    counts = Counter(s)\n",
    "    max_count = max(counts.values())\n",
    "    max_chars = [ch for ch, cnt in counts.items() if cnt == max_count]\n",
    "    for ch in max_chars:\n",
    "        print(f\"The maximally occurring character is '{ch}' & occurrence count is {max_count}\")\n",
    "\n",
    "# Example usage\n",
    "print(\"solution4\")\n",
    "input_string = input(\"enter the string\")\n",
    "highest_occurring_char(input_string)\n"
   ]
  },
  {
   "cell_type": "code",
   "execution_count": 10,
   "id": "f1ecf7e9-4987-4255-8e18-3bb60ba08bed",
   "metadata": {},
   "outputs": [
    {
     "name": "stdout",
     "output_type": "stream",
     "text": [
      "solution 3\n",
      "A^m =\n",
      " [[ 8  0]\n",
      " [19 27]]\n"
     ]
    }
   ],
   "source": [
    "import numpy as np\n",
    "def matrix_power(A, m):\n",
    "    A = np.array(A)\n",
    "    if A.shape[0] != A.shape[1]:\n",
    "        raise ValueError(\"Matrix must be square.\")\n",
    "    if not isinstance(m, int) or m < 1:\n",
    "        raise ValueError(\"Exponent must be a positive integer.\")    \n",
    "    return np.linalg.matrix_power(A, m)\n",
    "# Example usage:\n",
    "A = [[2, 0],\n",
    "     [1, 3]]\n",
    "\n",
    "m = 3\n",
    "print(\"solution 3\")\n",
    "result = matrix_power(A, m)\n",
    "print(\"A^m =\\n\", result)\n"
   ]
  },
  {
   "cell_type": "code",
   "execution_count": 11,
   "id": "64ead5b8-812a-42f3-a426-7232a3208300",
   "metadata": {},
   "outputs": [
    {
     "name": "stdout",
     "output_type": "stream",
     "text": [
      "solution1\n",
      "Number of pairs with sum 10: 2\n",
      "Pairs: {(3, 7), (4, 6)}\n"
     ]
    }
   ],
   "source": [
    "def count_pairs_with_sum(arr, target_sum):\n",
    "    seen = set()\n",
    "    pairs = set()\n",
    "\n",
    "    for num in arr:\n",
    "        complement = target_sum - num\n",
    "        if complement in seen:\n",
    "            pairs.add(tuple(sorted((num, complement))))\n",
    "        seen.add(num)\n",
    "\n",
    "    return len(pairs), pairs\n",
    "\n",
    "# Example usage:\n",
    "print(\"solution1\")\n",
    "arr = [2, 7, 4, 1, 3, 6]\n",
    "target = 10\n",
    "count, pair_list = count_pairs_with_sum(arr, target)\n",
    "print(f\"Number of pairs with sum {target}: {count}\")\n",
    "print(\"Pairs:\", pair_list)\n"
   ]
  },
  {
   "cell_type": "code",
   "execution_count": null,
   "id": "fac17809-7461-4b03-b8fa-7ab2633d6f73",
   "metadata": {},
   "outputs": [],
   "source": []
  }
 ],
 "metadata": {
  "kernelspec": {
   "display_name": "Python [conda env:base] *",
   "language": "python",
   "name": "conda-base-py"
  },
  "language_info": {
   "codemirror_mode": {
    "name": "ipython",
    "version": 3
   },
   "file_extension": ".py",
   "mimetype": "text/x-python",
   "name": "python",
   "nbconvert_exporter": "python",
   "pygments_lexer": "ipython3",
   "version": "3.13.5"
  }
 },
 "nbformat": 4,
 "nbformat_minor": 5
}
